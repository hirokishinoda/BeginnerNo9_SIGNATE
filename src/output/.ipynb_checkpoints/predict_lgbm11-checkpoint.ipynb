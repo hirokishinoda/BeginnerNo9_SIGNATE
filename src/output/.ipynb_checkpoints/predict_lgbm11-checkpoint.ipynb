{
 "cells": [
  {
   "cell_type": "code",
   "execution_count": 1,
   "id": "liquid-soldier",
   "metadata": {},
   "outputs": [],
   "source": [
    "import pandas as pd\n",
    "import lightgbm as lgbm\n",
    "import numpy as np"
   ]
  },
  {
   "cell_type": "code",
   "execution_count": 2,
   "id": "contemporary-portugal",
   "metadata": {},
   "outputs": [],
   "source": [
    "test_x = pd.read_pickle(\"../feature/blood_test_df.pkl\")"
   ]
  },
  {
   "cell_type": "code",
   "execution_count": 3,
   "id": "handed-marine",
   "metadata": {},
   "outputs": [
    {
     "data": {
      "text/html": [
       "<div>\n",
       "<style scoped>\n",
       "    .dataframe tbody tr th:only-of-type {\n",
       "        vertical-align: middle;\n",
       "    }\n",
       "\n",
       "    .dataframe tbody tr th {\n",
       "        vertical-align: top;\n",
       "    }\n",
       "\n",
       "    .dataframe thead th {\n",
       "        text-align: right;\n",
       "    }\n",
       "</style>\n",
       "<table border=\"1\" class=\"dataframe\">\n",
       "  <thead>\n",
       "    <tr style=\"text-align: right;\">\n",
       "      <th></th>\n",
       "      <th>id</th>\n",
       "      <th>age</th>\n",
       "      <th>creatinine_phosphokinase</th>\n",
       "      <th>ejection_fraction</th>\n",
       "      <th>platelets</th>\n",
       "      <th>serum_creatinine</th>\n",
       "      <th>serum_sodium</th>\n",
       "      <th>time</th>\n",
       "      <th>anaemia 0</th>\n",
       "      <th>anaemia 1</th>\n",
       "      <th>...</th>\n",
       "      <th>EF_pseudonormal</th>\n",
       "      <th>EF_restrictive</th>\n",
       "      <th>platelets_low</th>\n",
       "      <th>sodium_normal</th>\n",
       "      <th>sodium_low</th>\n",
       "      <th>CPK_high</th>\n",
       "      <th>CPK_normal</th>\n",
       "      <th>platelets_per_blood</th>\n",
       "      <th>sodium_per_blood</th>\n",
       "      <th>cretinine_per_blood</th>\n",
       "    </tr>\n",
       "  </thead>\n",
       "  <tbody>\n",
       "    <tr>\n",
       "      <th>0</th>\n",
       "      <td>1</td>\n",
       "      <td>67</td>\n",
       "      <td>56</td>\n",
       "      <td>60</td>\n",
       "      <td>255844.0310</td>\n",
       "      <td>0.824480</td>\n",
       "      <td>140</td>\n",
       "      <td>147</td>\n",
       "      <td>0</td>\n",
       "      <td>1</td>\n",
       "      <td>...</td>\n",
       "      <td>0</td>\n",
       "      <td>0</td>\n",
       "      <td>1</td>\n",
       "      <td>0</td>\n",
       "      <td>0</td>\n",
       "      <td>0</td>\n",
       "      <td>1</td>\n",
       "      <td>0.999450</td>\n",
       "      <td>0.000547</td>\n",
       "      <td>0.000003</td>\n",
       "    </tr>\n",
       "    <tr>\n",
       "      <th>1</th>\n",
       "      <td>2</td>\n",
       "      <td>58</td>\n",
       "      <td>320</td>\n",
       "      <td>38</td>\n",
       "      <td>163434.8513</td>\n",
       "      <td>5.281481</td>\n",
       "      <td>134</td>\n",
       "      <td>207</td>\n",
       "      <td>1</td>\n",
       "      <td>0</td>\n",
       "      <td>...</td>\n",
       "      <td>1</td>\n",
       "      <td>0</td>\n",
       "      <td>1</td>\n",
       "      <td>0</td>\n",
       "      <td>1</td>\n",
       "      <td>1</td>\n",
       "      <td>0</td>\n",
       "      <td>0.999149</td>\n",
       "      <td>0.000819</td>\n",
       "      <td>0.000032</td>\n",
       "    </tr>\n",
       "    <tr>\n",
       "      <th>2</th>\n",
       "      <td>4</td>\n",
       "      <td>67</td>\n",
       "      <td>737</td>\n",
       "      <td>60</td>\n",
       "      <td>255278.8436</td>\n",
       "      <td>0.841388</td>\n",
       "      <td>140</td>\n",
       "      <td>113</td>\n",
       "      <td>0</td>\n",
       "      <td>1</td>\n",
       "      <td>...</td>\n",
       "      <td>0</td>\n",
       "      <td>0</td>\n",
       "      <td>1</td>\n",
       "      <td>1</td>\n",
       "      <td>0</td>\n",
       "      <td>1</td>\n",
       "      <td>0</td>\n",
       "      <td>0.999449</td>\n",
       "      <td>0.000548</td>\n",
       "      <td>0.000003</td>\n",
       "    </tr>\n",
       "    <tr>\n",
       "      <th>3</th>\n",
       "      <td>5</td>\n",
       "      <td>48</td>\n",
       "      <td>231</td>\n",
       "      <td>60</td>\n",
       "      <td>500149.7955</td>\n",
       "      <td>0.742807</td>\n",
       "      <td>139</td>\n",
       "      <td>215</td>\n",
       "      <td>1</td>\n",
       "      <td>0</td>\n",
       "      <td>...</td>\n",
       "      <td>0</td>\n",
       "      <td>0</td>\n",
       "      <td>1</td>\n",
       "      <td>1</td>\n",
       "      <td>0</td>\n",
       "      <td>1</td>\n",
       "      <td>0</td>\n",
       "      <td>0.999721</td>\n",
       "      <td>0.000278</td>\n",
       "      <td>0.000001</td>\n",
       "    </tr>\n",
       "    <tr>\n",
       "      <th>4</th>\n",
       "      <td>6</td>\n",
       "      <td>59</td>\n",
       "      <td>320</td>\n",
       "      <td>35</td>\n",
       "      <td>245489.2530</td>\n",
       "      <td>1.082861</td>\n",
       "      <td>132</td>\n",
       "      <td>215</td>\n",
       "      <td>1</td>\n",
       "      <td>0</td>\n",
       "      <td>...</td>\n",
       "      <td>1</td>\n",
       "      <td>0</td>\n",
       "      <td>1</td>\n",
       "      <td>0</td>\n",
       "      <td>1</td>\n",
       "      <td>1</td>\n",
       "      <td>0</td>\n",
       "      <td>0.999458</td>\n",
       "      <td>0.000537</td>\n",
       "      <td>0.000004</td>\n",
       "    </tr>\n",
       "  </tbody>\n",
       "</table>\n",
       "<p>5 rows × 28 columns</p>\n",
       "</div>"
      ],
      "text/plain": [
       "   id  age  creatinine_phosphokinase  ejection_fraction    platelets  \\\n",
       "0   1   67                        56                 60  255844.0310   \n",
       "1   2   58                       320                 38  163434.8513   \n",
       "2   4   67                       737                 60  255278.8436   \n",
       "3   5   48                       231                 60  500149.7955   \n",
       "4   6   59                       320                 35  245489.2530   \n",
       "\n",
       "   serum_creatinine  serum_sodium  time  anaemia 0  anaemia 1  ...  \\\n",
       "0          0.824480           140   147          0          1  ...   \n",
       "1          5.281481           134   207          1          0  ...   \n",
       "2          0.841388           140   113          0          1  ...   \n",
       "3          0.742807           139   215          1          0  ...   \n",
       "4          1.082861           132   215          1          0  ...   \n",
       "\n",
       "   EF_pseudonormal  EF_restrictive  platelets_low  sodium_normal  sodium_low  \\\n",
       "0                0               0              1              0           0   \n",
       "1                1               0              1              0           1   \n",
       "2                0               0              1              1           0   \n",
       "3                0               0              1              1           0   \n",
       "4                1               0              1              0           1   \n",
       "\n",
       "   CPK_high  CPK_normal  platelets_per_blood  sodium_per_blood  \\\n",
       "0         0           1             0.999450          0.000547   \n",
       "1         1           0             0.999149          0.000819   \n",
       "2         1           0             0.999449          0.000548   \n",
       "3         1           0             0.999721          0.000278   \n",
       "4         1           0             0.999458          0.000537   \n",
       "\n",
       "   cretinine_per_blood  \n",
       "0             0.000003  \n",
       "1             0.000032  \n",
       "2             0.000003  \n",
       "3             0.000001  \n",
       "4             0.000004  \n",
       "\n",
       "[5 rows x 28 columns]"
      ]
     },
     "execution_count": 3,
     "metadata": {},
     "output_type": "execute_result"
    }
   ],
   "source": [
    "test_x.head()"
   ]
  },
  {
   "cell_type": "code",
   "execution_count": 4,
   "id": "objective-invalid",
   "metadata": {},
   "outputs": [],
   "source": [
    "submit_df = pd.read_csv(\"../../data/sample_submission.csv\")"
   ]
  },
  {
   "cell_type": "code",
   "execution_count": 5,
   "id": "marked-patch",
   "metadata": {},
   "outputs": [
    {
     "data": {
      "text/html": [
       "<div>\n",
       "<style scoped>\n",
       "    .dataframe tbody tr th:only-of-type {\n",
       "        vertical-align: middle;\n",
       "    }\n",
       "\n",
       "    .dataframe tbody tr th {\n",
       "        vertical-align: top;\n",
       "    }\n",
       "\n",
       "    .dataframe thead th {\n",
       "        text-align: right;\n",
       "    }\n",
       "</style>\n",
       "<table border=\"1\" class=\"dataframe\">\n",
       "  <thead>\n",
       "    <tr style=\"text-align: right;\">\n",
       "      <th></th>\n",
       "      <th>1</th>\n",
       "      <th>0</th>\n",
       "    </tr>\n",
       "  </thead>\n",
       "  <tbody>\n",
       "    <tr>\n",
       "      <th>0</th>\n",
       "      <td>2</td>\n",
       "      <td>0</td>\n",
       "    </tr>\n",
       "    <tr>\n",
       "      <th>1</th>\n",
       "      <td>4</td>\n",
       "      <td>0</td>\n",
       "    </tr>\n",
       "    <tr>\n",
       "      <th>2</th>\n",
       "      <td>5</td>\n",
       "      <td>0</td>\n",
       "    </tr>\n",
       "    <tr>\n",
       "      <th>3</th>\n",
       "      <td>6</td>\n",
       "      <td>0</td>\n",
       "    </tr>\n",
       "    <tr>\n",
       "      <th>4</th>\n",
       "      <td>8</td>\n",
       "      <td>0</td>\n",
       "    </tr>\n",
       "  </tbody>\n",
       "</table>\n",
       "</div>"
      ],
      "text/plain": [
       "   1  0\n",
       "0  2  0\n",
       "1  4  0\n",
       "2  5  0\n",
       "3  6  0\n",
       "4  8  0"
      ]
     },
     "execution_count": 5,
     "metadata": {},
     "output_type": "execute_result"
    }
   ],
   "source": [
    "submit_df.head()"
   ]
  },
  {
   "cell_type": "code",
   "execution_count": 6,
   "id": "common-butter",
   "metadata": {},
   "outputs": [],
   "source": [
    "model = lgbm.Booster(model_file=\"../model/lgbm11.txt\")"
   ]
  },
  {
   "cell_type": "code",
   "execution_count": 7,
   "id": "collected-tomato",
   "metadata": {},
   "outputs": [],
   "source": [
    "result = model.predict(test_x, num_iteration=model.best_iteration)"
   ]
  },
  {
   "cell_type": "code",
   "execution_count": 8,
   "id": "defined-repository",
   "metadata": {},
   "outputs": [
    {
     "data": {
      "text/plain": [
       "numpy.ndarray"
      ]
     },
     "execution_count": 8,
     "metadata": {},
     "output_type": "execute_result"
    }
   ],
   "source": [
    "type(result)"
   ]
  },
  {
   "cell_type": "code",
   "execution_count": 9,
   "id": "composite-gasoline",
   "metadata": {},
   "outputs": [],
   "source": [
    "result = result.round()"
   ]
  },
  {
   "cell_type": "code",
   "execution_count": 10,
   "id": "international-weather",
   "metadata": {},
   "outputs": [
    {
     "data": {
      "text/plain": [
       "array([0., 1., 0., 0., 0.])"
      ]
     },
     "execution_count": 10,
     "metadata": {},
     "output_type": "execute_result"
    }
   ],
   "source": [
    "result[:5]"
   ]
  },
  {
   "cell_type": "code",
   "execution_count": 11,
   "id": "intimate-festival",
   "metadata": {},
   "outputs": [],
   "source": [
    "result_id = test_x[\"id\"].values"
   ]
  },
  {
   "cell_type": "code",
   "execution_count": 12,
   "id": "stuffed-blink",
   "metadata": {},
   "outputs": [
    {
     "data": {
      "text/plain": [
       "numpy.ndarray"
      ]
     },
     "execution_count": 12,
     "metadata": {},
     "output_type": "execute_result"
    }
   ],
   "source": [
    "type(result_id)"
   ]
  },
  {
   "cell_type": "code",
   "execution_count": 13,
   "id": "collaborative-steal",
   "metadata": {},
   "outputs": [],
   "source": [
    "result_out = np.stack([result_id, result],axis=1).astype(np.int64)"
   ]
  },
  {
   "cell_type": "code",
   "execution_count": 14,
   "id": "steady-consortium",
   "metadata": {},
   "outputs": [],
   "source": [
    "np.savetxt(\"output11.csv\", result_out, fmt=\"%d\", delimiter=\",\")"
   ]
  },
  {
   "cell_type": "code",
   "execution_count": null,
   "id": "precise-pearl",
   "metadata": {},
   "outputs": [],
   "source": []
  }
 ],
 "metadata": {
  "kernelspec": {
   "display_name": "Python 3",
   "language": "python",
   "name": "python3"
  },
  "language_info": {
   "codemirror_mode": {
    "name": "ipython",
    "version": 3
   },
   "file_extension": ".py",
   "mimetype": "text/x-python",
   "name": "python",
   "nbconvert_exporter": "python",
   "pygments_lexer": "ipython3",
   "version": "3.7.9"
  }
 },
 "nbformat": 4,
 "nbformat_minor": 5
}
