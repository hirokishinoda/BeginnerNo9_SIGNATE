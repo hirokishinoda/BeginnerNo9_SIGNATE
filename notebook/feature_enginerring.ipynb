{
 "cells": [
  {
   "cell_type": "code",
   "execution_count": 1,
   "id": "faced-bunny",
   "metadata": {},
   "outputs": [],
   "source": [
    "import pandas as pd"
   ]
  },
  {
   "cell_type": "code",
   "execution_count": 2,
   "id": "unavailable-album",
   "metadata": {},
   "outputs": [],
   "source": [
    "train_df = pd.read_csv(\"../data/train.csv\")"
   ]
  },
  {
   "cell_type": "code",
   "execution_count": 3,
   "id": "adapted-words",
   "metadata": {},
   "outputs": [],
   "source": [
    "test_df = pd.read_csv(\"../data/test.csv\")"
   ]
  },
  {
   "cell_type": "code",
   "execution_count": 4,
   "id": "appropriate-oklahoma",
   "metadata": {},
   "outputs": [
    {
     "data": {
      "text/html": [
       "<div>\n",
       "<style scoped>\n",
       "    .dataframe tbody tr th:only-of-type {\n",
       "        vertical-align: middle;\n",
       "    }\n",
       "\n",
       "    .dataframe tbody tr th {\n",
       "        vertical-align: top;\n",
       "    }\n",
       "\n",
       "    .dataframe thead th {\n",
       "        text-align: right;\n",
       "    }\n",
       "</style>\n",
       "<table border=\"1\" class=\"dataframe\">\n",
       "  <thead>\n",
       "    <tr style=\"text-align: right;\">\n",
       "      <th></th>\n",
       "      <th>id</th>\n",
       "      <th>age</th>\n",
       "      <th>anaemia</th>\n",
       "      <th>creatinine_phosphokinase</th>\n",
       "      <th>diabetes</th>\n",
       "      <th>ejection_fraction</th>\n",
       "      <th>high_blood_pressure</th>\n",
       "      <th>platelets</th>\n",
       "      <th>serum_creatinine</th>\n",
       "      <th>serum_sodium</th>\n",
       "      <th>sex</th>\n",
       "      <th>smoking</th>\n",
       "      <th>time</th>\n",
       "      <th>target</th>\n",
       "    </tr>\n",
       "  </thead>\n",
       "  <tbody>\n",
       "    <tr>\n",
       "      <th>0</th>\n",
       "      <td>0</td>\n",
       "      <td>56</td>\n",
       "      <td>1</td>\n",
       "      <td>5882</td>\n",
       "      <td>0</td>\n",
       "      <td>38</td>\n",
       "      <td>0</td>\n",
       "      <td>185315.0104</td>\n",
       "      <td>0.844417</td>\n",
       "      <td>134</td>\n",
       "      <td>1</td>\n",
       "      <td>0</td>\n",
       "      <td>10</td>\n",
       "      <td>1</td>\n",
       "    </tr>\n",
       "    <tr>\n",
       "      <th>1</th>\n",
       "      <td>3</td>\n",
       "      <td>50</td>\n",
       "      <td>0</td>\n",
       "      <td>1767</td>\n",
       "      <td>1</td>\n",
       "      <td>35</td>\n",
       "      <td>0</td>\n",
       "      <td>371620.3666</td>\n",
       "      <td>0.837448</td>\n",
       "      <td>136</td>\n",
       "      <td>0</td>\n",
       "      <td>0</td>\n",
       "      <td>187</td>\n",
       "      <td>1</td>\n",
       "    </tr>\n",
       "    <tr>\n",
       "      <th>2</th>\n",
       "      <td>7</td>\n",
       "      <td>41</td>\n",
       "      <td>0</td>\n",
       "      <td>250</td>\n",
       "      <td>1</td>\n",
       "      <td>30</td>\n",
       "      <td>0</td>\n",
       "      <td>372810.2084</td>\n",
       "      <td>0.819996</td>\n",
       "      <td>139</td>\n",
       "      <td>1</td>\n",
       "      <td>0</td>\n",
       "      <td>29</td>\n",
       "      <td>1</td>\n",
       "    </tr>\n",
       "    <tr>\n",
       "      <th>3</th>\n",
       "      <td>11</td>\n",
       "      <td>47</td>\n",
       "      <td>0</td>\n",
       "      <td>582</td>\n",
       "      <td>1</td>\n",
       "      <td>20</td>\n",
       "      <td>0</td>\n",
       "      <td>185780.6482</td>\n",
       "      <td>0.870314</td>\n",
       "      <td>137</td>\n",
       "      <td>0</td>\n",
       "      <td>0</td>\n",
       "      <td>43</td>\n",
       "      <td>0</td>\n",
       "    </tr>\n",
       "    <tr>\n",
       "      <th>4</th>\n",
       "      <td>12</td>\n",
       "      <td>60</td>\n",
       "      <td>0</td>\n",
       "      <td>80</td>\n",
       "      <td>0</td>\n",
       "      <td>25</td>\n",
       "      <td>0</td>\n",
       "      <td>265096.3999</td>\n",
       "      <td>0.828112</td>\n",
       "      <td>136</td>\n",
       "      <td>1</td>\n",
       "      <td>0</td>\n",
       "      <td>213</td>\n",
       "      <td>0</td>\n",
       "    </tr>\n",
       "  </tbody>\n",
       "</table>\n",
       "</div>"
      ],
      "text/plain": [
       "   id  age  anaemia  creatinine_phosphokinase  diabetes  ejection_fraction  \\\n",
       "0   0   56        1                      5882         0                 38   \n",
       "1   3   50        0                      1767         1                 35   \n",
       "2   7   41        0                       250         1                 30   \n",
       "3  11   47        0                       582         1                 20   \n",
       "4  12   60        0                        80         0                 25   \n",
       "\n",
       "   high_blood_pressure    platelets  serum_creatinine  serum_sodium  sex  \\\n",
       "0                    0  185315.0104          0.844417           134    1   \n",
       "1                    0  371620.3666          0.837448           136    0   \n",
       "2                    0  372810.2084          0.819996           139    1   \n",
       "3                    0  185780.6482          0.870314           137    0   \n",
       "4                    0  265096.3999          0.828112           136    1   \n",
       "\n",
       "   smoking  time  target  \n",
       "0        0    10       1  \n",
       "1        0   187       1  \n",
       "2        0    29       1  \n",
       "3        0    43       0  \n",
       "4        0   213       0  "
      ]
     },
     "execution_count": 4,
     "metadata": {},
     "output_type": "execute_result"
    }
   ],
   "source": [
    "train_df.head()"
   ]
  },
  {
   "cell_type": "markdown",
   "id": "demonstrated-empty",
   "metadata": {},
   "source": [
    "## ダミー変数への変換"
   ]
  },
  {
   "cell_type": "code",
   "execution_count": 5,
   "id": "reported-patrick",
   "metadata": {},
   "outputs": [],
   "source": [
    "dummies_train = pd.get_dummies(train_df,columns=[\"anaemia\", \"diabetes\", \"high_blood_pressure\", \"sex\", \"smoking\"],prefix_sep=\" \")"
   ]
  },
  {
   "cell_type": "code",
   "execution_count": 6,
   "id": "acoustic-gauge",
   "metadata": {},
   "outputs": [],
   "source": [
    "dummies_train.to_pickle(\"../src/feature/dummies_train_df.pkl\")"
   ]
  },
  {
   "cell_type": "code",
   "execution_count": 7,
   "id": "champion-costa",
   "metadata": {},
   "outputs": [
    {
     "data": {
      "text/plain": [
       "Index(['id', 'age', 'creatinine_phosphokinase', 'ejection_fraction',\n",
       "       'platelets', 'serum_creatinine', 'serum_sodium', 'time', 'target',\n",
       "       'anaemia 0', 'anaemia 1', 'diabetes 0', 'diabetes 1',\n",
       "       'high_blood_pressure 0', 'high_blood_pressure 1', 'sex 0', 'sex 1',\n",
       "       'smoking 0', 'smoking 1'],\n",
       "      dtype='object')"
      ]
     },
     "execution_count": 7,
     "metadata": {},
     "output_type": "execute_result"
    }
   ],
   "source": [
    "dummies_train.columns"
   ]
  },
  {
   "cell_type": "code",
   "execution_count": 8,
   "id": "overall-trust",
   "metadata": {},
   "outputs": [],
   "source": [
    "dummies_test = pd.get_dummies(test_df,columns=[\"anaemia\", \"diabetes\", \"high_blood_pressure\", \"sex\", \"smoking\"],prefix_sep=\" \")"
   ]
  },
  {
   "cell_type": "code",
   "execution_count": 9,
   "id": "regulated-mechanics",
   "metadata": {},
   "outputs": [],
   "source": [
    "dummies_test.to_pickle(\"../src/feature/dummies_test_df.pkl\")"
   ]
  },
  {
   "cell_type": "markdown",
   "id": "integral-richmond",
   "metadata": {},
   "source": [
    "## 外れ値の除去"
   ]
  },
  {
   "cell_type": "code",
   "execution_count": 10,
   "id": "otherwise-railway",
   "metadata": {},
   "outputs": [
    {
     "name": "stderr",
     "output_type": "stream",
     "text": [
      "/opt/conda/lib/python3.7/site-packages/ipykernel_launcher.py:1: SettingWithCopyWarning: \n",
      "A value is trying to be set on a copy of a slice from a DataFrame\n",
      "\n",
      "See the caveats in the documentation: https://pandas.pydata.org/pandas-docs/stable/user_guide/indexing.html#returning-a-view-versus-a-copy\n",
      "  \"\"\"Entry point for launching an IPython kernel.\n"
     ]
    }
   ],
   "source": [
    "dummies_train[\"platelets\"][dummies_train[\"platelets\"] >= 500000] = 500000"
   ]
  },
  {
   "cell_type": "code",
   "execution_count": 11,
   "id": "rapid-commodity",
   "metadata": {},
   "outputs": [
    {
     "name": "stderr",
     "output_type": "stream",
     "text": [
      "/opt/conda/lib/python3.7/site-packages/ipykernel_launcher.py:1: SettingWithCopyWarning: \n",
      "A value is trying to be set on a copy of a slice from a DataFrame\n",
      "\n",
      "See the caveats in the documentation: https://pandas.pydata.org/pandas-docs/stable/user_guide/indexing.html#returning-a-view-versus-a-copy\n",
      "  \"\"\"Entry point for launching an IPython kernel.\n"
     ]
    }
   ],
   "source": [
    "dummies_train[\"creatinine_phosphokinase\"][dummies_train[\"creatinine_phosphokinase\"] >= 3000] = 3000"
   ]
  },
  {
   "cell_type": "code",
   "execution_count": 12,
   "id": "electric-password",
   "metadata": {},
   "outputs": [],
   "source": [
    "dummies_train.to_pickle(\"../src/feature/outliers_train_df.pkl\")"
   ]
  },
  {
   "cell_type": "code",
   "execution_count": null,
   "id": "arctic-lindsay",
   "metadata": {},
   "outputs": [],
   "source": []
  }
 ],
 "metadata": {
  "kernelspec": {
   "display_name": "Python 3",
   "language": "python",
   "name": "python3"
  },
  "language_info": {
   "codemirror_mode": {
    "name": "ipython",
    "version": 3
   },
   "file_extension": ".py",
   "mimetype": "text/x-python",
   "name": "python",
   "nbconvert_exporter": "python",
   "pygments_lexer": "ipython3",
   "version": "3.7.9"
  }
 },
 "nbformat": 4,
 "nbformat_minor": 5
}
