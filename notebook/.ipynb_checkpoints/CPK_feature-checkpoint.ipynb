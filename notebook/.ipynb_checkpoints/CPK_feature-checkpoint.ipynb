{
 "cells": [
  {
   "cell_type": "code",
   "execution_count": 1,
   "id": "australian-complex",
   "metadata": {},
   "outputs": [],
   "source": [
    "import pandas as pd"
   ]
  },
  {
   "cell_type": "code",
   "execution_count": 2,
   "id": "white-brazil",
   "metadata": {},
   "outputs": [],
   "source": [
    "train_df = pd.read_pickle(\"../src/feature/sodium_train_df.pkl\")"
   ]
  },
  {
   "cell_type": "code",
   "execution_count": 3,
   "id": "negative-layout",
   "metadata": {},
   "outputs": [],
   "source": [
    "test_df = pd.read_pickle(\"../src/feature/sodium_test_df.pkl\")"
   ]
  },
  {
   "cell_type": "code",
   "execution_count": 4,
   "id": "social-chaos",
   "metadata": {},
   "outputs": [
    {
     "data": {
      "text/html": [
       "<div>\n",
       "<style scoped>\n",
       "    .dataframe tbody tr th:only-of-type {\n",
       "        vertical-align: middle;\n",
       "    }\n",
       "\n",
       "    .dataframe tbody tr th {\n",
       "        vertical-align: top;\n",
       "    }\n",
       "\n",
       "    .dataframe thead th {\n",
       "        text-align: right;\n",
       "    }\n",
       "</style>\n",
       "<table border=\"1\" class=\"dataframe\">\n",
       "  <thead>\n",
       "    <tr style=\"text-align: right;\">\n",
       "      <th></th>\n",
       "      <th>id</th>\n",
       "      <th>age</th>\n",
       "      <th>creatinine_phosphokinase</th>\n",
       "      <th>ejection_fraction</th>\n",
       "      <th>platelets</th>\n",
       "      <th>serum_creatinine</th>\n",
       "      <th>serum_sodium</th>\n",
       "      <th>time</th>\n",
       "      <th>target</th>\n",
       "      <th>anaemia 0</th>\n",
       "      <th>...</th>\n",
       "      <th>EF_restrictive</th>\n",
       "      <th>platelets_high</th>\n",
       "      <th>platelets_normal</th>\n",
       "      <th>platelets_low</th>\n",
       "      <th>creatinine_high</th>\n",
       "      <th>creatinine_normal</th>\n",
       "      <th>creatinine_low</th>\n",
       "      <th>sodium_high</th>\n",
       "      <th>sodium_normal</th>\n",
       "      <th>sodium_low</th>\n",
       "    </tr>\n",
       "  </thead>\n",
       "  <tbody>\n",
       "    <tr>\n",
       "      <th>0</th>\n",
       "      <td>0</td>\n",
       "      <td>56</td>\n",
       "      <td>5882</td>\n",
       "      <td>38</td>\n",
       "      <td>185315.0104</td>\n",
       "      <td>0.844417</td>\n",
       "      <td>134</td>\n",
       "      <td>10</td>\n",
       "      <td>1</td>\n",
       "      <td>0</td>\n",
       "      <td>...</td>\n",
       "      <td>0</td>\n",
       "      <td>0</td>\n",
       "      <td>0</td>\n",
       "      <td>1</td>\n",
       "      <td>1</td>\n",
       "      <td>0</td>\n",
       "      <td>0</td>\n",
       "      <td>0</td>\n",
       "      <td>0</td>\n",
       "      <td>1</td>\n",
       "    </tr>\n",
       "    <tr>\n",
       "      <th>1</th>\n",
       "      <td>3</td>\n",
       "      <td>50</td>\n",
       "      <td>1767</td>\n",
       "      <td>35</td>\n",
       "      <td>371620.3666</td>\n",
       "      <td>0.837448</td>\n",
       "      <td>136</td>\n",
       "      <td>187</td>\n",
       "      <td>1</td>\n",
       "      <td>1</td>\n",
       "      <td>...</td>\n",
       "      <td>0</td>\n",
       "      <td>0</td>\n",
       "      <td>0</td>\n",
       "      <td>1</td>\n",
       "      <td>1</td>\n",
       "      <td>0</td>\n",
       "      <td>0</td>\n",
       "      <td>0</td>\n",
       "      <td>0</td>\n",
       "      <td>1</td>\n",
       "    </tr>\n",
       "    <tr>\n",
       "      <th>2</th>\n",
       "      <td>7</td>\n",
       "      <td>41</td>\n",
       "      <td>250</td>\n",
       "      <td>30</td>\n",
       "      <td>372810.2084</td>\n",
       "      <td>0.819996</td>\n",
       "      <td>139</td>\n",
       "      <td>29</td>\n",
       "      <td>1</td>\n",
       "      <td>1</td>\n",
       "      <td>...</td>\n",
       "      <td>0</td>\n",
       "      <td>0</td>\n",
       "      <td>0</td>\n",
       "      <td>1</td>\n",
       "      <td>1</td>\n",
       "      <td>0</td>\n",
       "      <td>0</td>\n",
       "      <td>0</td>\n",
       "      <td>1</td>\n",
       "      <td>0</td>\n",
       "    </tr>\n",
       "    <tr>\n",
       "      <th>3</th>\n",
       "      <td>11</td>\n",
       "      <td>47</td>\n",
       "      <td>582</td>\n",
       "      <td>20</td>\n",
       "      <td>185780.6482</td>\n",
       "      <td>0.870314</td>\n",
       "      <td>137</td>\n",
       "      <td>43</td>\n",
       "      <td>0</td>\n",
       "      <td>1</td>\n",
       "      <td>...</td>\n",
       "      <td>1</td>\n",
       "      <td>0</td>\n",
       "      <td>0</td>\n",
       "      <td>1</td>\n",
       "      <td>1</td>\n",
       "      <td>0</td>\n",
       "      <td>0</td>\n",
       "      <td>0</td>\n",
       "      <td>1</td>\n",
       "      <td>0</td>\n",
       "    </tr>\n",
       "    <tr>\n",
       "      <th>4</th>\n",
       "      <td>12</td>\n",
       "      <td>60</td>\n",
       "      <td>80</td>\n",
       "      <td>25</td>\n",
       "      <td>265096.3999</td>\n",
       "      <td>0.828112</td>\n",
       "      <td>136</td>\n",
       "      <td>213</td>\n",
       "      <td>0</td>\n",
       "      <td>1</td>\n",
       "      <td>...</td>\n",
       "      <td>1</td>\n",
       "      <td>0</td>\n",
       "      <td>0</td>\n",
       "      <td>1</td>\n",
       "      <td>1</td>\n",
       "      <td>0</td>\n",
       "      <td>0</td>\n",
       "      <td>0</td>\n",
       "      <td>0</td>\n",
       "      <td>1</td>\n",
       "    </tr>\n",
       "  </tbody>\n",
       "</table>\n",
       "<p>5 rows × 32 columns</p>\n",
       "</div>"
      ],
      "text/plain": [
       "   id  age  creatinine_phosphokinase  ejection_fraction    platelets  \\\n",
       "0   0   56                      5882                 38  185315.0104   \n",
       "1   3   50                      1767                 35  371620.3666   \n",
       "2   7   41                       250                 30  372810.2084   \n",
       "3  11   47                       582                 20  185780.6482   \n",
       "4  12   60                        80                 25  265096.3999   \n",
       "\n",
       "   serum_creatinine  serum_sodium  time  target  anaemia 0  ...  \\\n",
       "0          0.844417           134    10       1          0  ...   \n",
       "1          0.837448           136   187       1          1  ...   \n",
       "2          0.819996           139    29       1          1  ...   \n",
       "3          0.870314           137    43       0          1  ...   \n",
       "4          0.828112           136   213       0          1  ...   \n",
       "\n",
       "   EF_restrictive  platelets_high  platelets_normal  platelets_low  \\\n",
       "0               0               0                 0              1   \n",
       "1               0               0                 0              1   \n",
       "2               0               0                 0              1   \n",
       "3               1               0                 0              1   \n",
       "4               1               0                 0              1   \n",
       "\n",
       "   creatinine_high  creatinine_normal  creatinine_low  sodium_high  \\\n",
       "0                1                  0               0            0   \n",
       "1                1                  0               0            0   \n",
       "2                1                  0               0            0   \n",
       "3                1                  0               0            0   \n",
       "4                1                  0               0            0   \n",
       "\n",
       "   sodium_normal  sodium_low  \n",
       "0              0           1  \n",
       "1              0           1  \n",
       "2              1           0  \n",
       "3              1           0  \n",
       "4              0           1  \n",
       "\n",
       "[5 rows x 32 columns]"
      ]
     },
     "execution_count": 4,
     "metadata": {},
     "output_type": "execute_result"
    }
   ],
   "source": [
    "train_df.head()"
   ]
  },
  {
   "cell_type": "code",
   "execution_count": 5,
   "id": "stone-nightmare",
   "metadata": {},
   "outputs": [],
   "source": [
    "train_df[\"CPK_high\"] = 0\n",
    "train_df[\"CPK_normal\"] = 0\n",
    "train_df[\"CPK_low\"] = 0\n",
    "test_df[\"CPK_high\"] = 0\n",
    "test_df[\"CPK_normal\"] = 0\n",
    "test_df[\"CPK_low\"] = 0"
   ]
  },
  {
   "cell_type": "code",
   "execution_count": 6,
   "id": "indie-values",
   "metadata": {},
   "outputs": [
    {
     "name": "stderr",
     "output_type": "stream",
     "text": [
      "/opt/conda/lib/python3.7/site-packages/ipykernel_launcher.py:1: SettingWithCopyWarning: \n",
      "A value is trying to be set on a copy of a slice from a DataFrame\n",
      "\n",
      "See the caveats in the documentation: https://pandas.pydata.org/pandas-docs/stable/user_guide/indexing.html#returning-a-view-versus-a-copy\n",
      "  \"\"\"Entry point for launching an IPython kernel.\n",
      "/opt/conda/lib/python3.7/site-packages/ipykernel_launcher.py:2: SettingWithCopyWarning: \n",
      "A value is trying to be set on a copy of a slice from a DataFrame\n",
      "\n",
      "See the caveats in the documentation: https://pandas.pydata.org/pandas-docs/stable/user_guide/indexing.html#returning-a-view-versus-a-copy\n",
      "  \n"
     ]
    }
   ],
   "source": [
    "train_df[\"CPK_high\"][((train_df[\"creatinine_phosphokinase\"] > 197) & (train_df[\"sex 1\"] == 1)) | ((train_df[\"creatinine_phosphokinase\"] > 180) & (train_df[\"sex 0\"] == 1))] = 1\n",
    "test_df[\"CPK_high\"][((test_df[\"creatinine_phosphokinase\"] > 197) & (test_df[\"sex 1\"] == 1)) | ((test_df[\"creatinine_phosphokinase\"] > 180) & (test_df[\"sex 0\"] == 1))] = 1"
   ]
  },
  {
   "cell_type": "code",
   "execution_count": 7,
   "id": "daily-workshop",
   "metadata": {},
   "outputs": [
    {
     "name": "stderr",
     "output_type": "stream",
     "text": [
      "/opt/conda/lib/python3.7/site-packages/ipykernel_launcher.py:1: SettingWithCopyWarning: \n",
      "A value is trying to be set on a copy of a slice from a DataFrame\n",
      "\n",
      "See the caveats in the documentation: https://pandas.pydata.org/pandas-docs/stable/user_guide/indexing.html#returning-a-view-versus-a-copy\n",
      "  \"\"\"Entry point for launching an IPython kernel.\n",
      "/opt/conda/lib/python3.7/site-packages/ipykernel_launcher.py:2: SettingWithCopyWarning: \n",
      "A value is trying to be set on a copy of a slice from a DataFrame\n",
      "\n",
      "See the caveats in the documentation: https://pandas.pydata.org/pandas-docs/stable/user_guide/indexing.html#returning-a-view-versus-a-copy\n",
      "  \n"
     ]
    }
   ],
   "source": [
    "train_df[\"CPK_normal\"][((train_df[\"creatinine_phosphokinase\"] <= 197) & (train_df[\"creatinine_phosphokinase\"] > 57) & (train_df[\"sex 1\"] == 1)) | ((train_df[\"creatinine_phosphokinase\"] <= 180) & (train_df[\"creatinine_phosphokinase\"] > 32) & (train_df[\"sex 0\"] == 1))] = 1\n",
    "test_df[\"CPK_normal\"][((test_df[\"creatinine_phosphokinase\"] <= 197) & (test_df[\"creatinine_phosphokinase\"] > 57) & (test_df[\"sex 1\"] == 1)) | ((test_df[\"creatinine_phosphokinase\"] <= 180) & (test_df[\"creatinine_phosphokinase\"] > 32) & (test_df[\"sex 0\"] == 1))] = 1"
   ]
  },
  {
   "cell_type": "code",
   "execution_count": 8,
   "id": "enclosed-jonathan",
   "metadata": {},
   "outputs": [
    {
     "name": "stderr",
     "output_type": "stream",
     "text": [
      "/opt/conda/lib/python3.7/site-packages/ipykernel_launcher.py:1: SettingWithCopyWarning: \n",
      "A value is trying to be set on a copy of a slice from a DataFrame\n",
      "\n",
      "See the caveats in the documentation: https://pandas.pydata.org/pandas-docs/stable/user_guide/indexing.html#returning-a-view-versus-a-copy\n",
      "  \"\"\"Entry point for launching an IPython kernel.\n",
      "/opt/conda/lib/python3.7/site-packages/ipykernel_launcher.py:2: SettingWithCopyWarning: \n",
      "A value is trying to be set on a copy of a slice from a DataFrame\n",
      "\n",
      "See the caveats in the documentation: https://pandas.pydata.org/pandas-docs/stable/user_guide/indexing.html#returning-a-view-versus-a-copy\n",
      "  \n"
     ]
    }
   ],
   "source": [
    "train_df[\"CPK_low\"][((train_df[\"creatinine_phosphokinase\"] < 57) & (train_df[\"sex 1\"] == 1)) | ((train_df[\"creatinine_phosphokinase\"] < 32) & (train_df[\"sex 0\"] == 1))] = 1\n",
    "test_df[\"CPK_low\"][((test_df[\"creatinine_phosphokinase\"] < 57) & (test_df[\"sex 1\"] == 1)) | ((test_df[\"creatinine_phosphokinase\"] < 32) & (test_df[\"sex 0\"] == 1))] = 1"
   ]
  },
  {
   "cell_type": "code",
   "execution_count": 9,
   "id": "undefined-biography",
   "metadata": {},
   "outputs": [],
   "source": [
    "train_df.to_pickle(\"../src/feature/CPK_train_df.pkl\")"
   ]
  },
  {
   "cell_type": "code",
   "execution_count": 10,
   "id": "neither-passage",
   "metadata": {},
   "outputs": [],
   "source": [
    "test_df.to_pickle(\"../src/feature/CPK_test_df.pkl\")"
   ]
  },
  {
   "cell_type": "code",
   "execution_count": null,
   "id": "integral-regulation",
   "metadata": {},
   "outputs": [],
   "source": []
  }
 ],
 "metadata": {
  "kernelspec": {
   "display_name": "Python 3",
   "language": "python",
   "name": "python3"
  },
  "language_info": {
   "codemirror_mode": {
    "name": "ipython",
    "version": 3
   },
   "file_extension": ".py",
   "mimetype": "text/x-python",
   "name": "python",
   "nbconvert_exporter": "python",
   "pygments_lexer": "ipython3",
   "version": "3.7.9"
  }
 },
 "nbformat": 4,
 "nbformat_minor": 5
}
